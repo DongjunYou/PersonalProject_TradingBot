{
  "nbformat": 4,
  "nbformat_minor": 0,
  "metadata": {
    "colab": {
      "name": "21.1Q_Report.ipynb",
      "provenance": [],
      "collapsed_sections": [],
      "toc_visible": true,
      "authorship_tag": "ABX9TyOFhticJD2JmskCnHrq33A4",
      "include_colab_link": true
    },
    "kernelspec": {
      "name": "python3",
      "display_name": "Python 3"
    }
  },
  "cells": [
    {
      "cell_type": "markdown",
      "metadata": {
        "id": "view-in-github",
        "colab_type": "text"
      },
      "source": [
        "<a href=\"https://colab.research.google.com/github/Lutris98/PersonalProject/blob/main/2.Analytics/21.1Q_Report.ipynb\" target=\"_parent\"><img src=\"https://colab.research.google.com/assets/colab-badge.svg\" alt=\"Open In Colab\"/></a>"
      ]
    },
    {
      "cell_type": "markdown",
      "metadata": {
        "id": "nkamq0fxajor"
      },
      "source": [
        "투자 개요<br>\r\n",
        "미래전망을보고 종목선정<br>\r\n",
        "4개정도의 종목선정후 포트폴리오구성<br>\r\n",
        "구성후엔 매수, 매도 시점 확인 "
      ]
    },
    {
      "cell_type": "markdown",
      "metadata": {
        "id": "hVcXPFAna8tM"
      },
      "source": [
        "#1.투자개요"
      ]
    },
    {
      "cell_type": "markdown",
      "metadata": {
        "id": "GE1Yk3pIbBhD"
      },
      "source": [
        "투자할 종목은 <br>\r\n",
        "다다 넥서스(DADA)<br>\r\n",
        "마이크로소프트(MSFT)<br>\r\n",
        "화이자(PFE)<br>"
      ]
    },
    {
      "cell_type": "markdown",
      "metadata": {
        "id": "7ASZ6paMbSxL"
      },
      "source": [
        "#2.포트폴리오 구성"
      ]
    },
    {
      "cell_type": "code",
      "metadata": {
        "colab": {
          "base_uri": "https://localhost:8080/"
        },
        "id": "SDwk20BRb35u",
        "outputId": "ddec934d-aa7e-4e51-bf34-3b3abec08e95"
      },
      "source": [
        "!pip install yfinance\r\n",
        "!pip install mplfinance"
      ],
      "execution_count": 1,
      "outputs": [
        {
          "output_type": "stream",
          "text": [
            "Collecting yfinance\n",
            "  Downloading https://files.pythonhosted.org/packages/7a/e8/b9d7104d3a4bf39924799067592d9e59119fcfc900a425a12e80a3123ec8/yfinance-0.1.55.tar.gz\n",
            "Requirement already satisfied: pandas>=0.24 in /usr/local/lib/python3.6/dist-packages (from yfinance) (1.1.5)\n",
            "Requirement already satisfied: numpy>=1.15 in /usr/local/lib/python3.6/dist-packages (from yfinance) (1.19.5)\n",
            "Requirement already satisfied: requests>=2.20 in /usr/local/lib/python3.6/dist-packages (from yfinance) (2.23.0)\n",
            "Requirement already satisfied: multitasking>=0.0.7 in /usr/local/lib/python3.6/dist-packages (from yfinance) (0.0.9)\n",
            "Collecting lxml>=4.5.1\n",
            "\u001b[?25l  Downloading https://files.pythonhosted.org/packages/bd/78/56a7c88a57d0d14945472535d0df9fb4bbad7d34ede658ec7961635c790e/lxml-4.6.2-cp36-cp36m-manylinux1_x86_64.whl (5.5MB)\n",
            "\u001b[K     |████████████████████████████████| 5.5MB 6.3MB/s \n",
            "\u001b[?25hRequirement already satisfied: python-dateutil>=2.7.3 in /usr/local/lib/python3.6/dist-packages (from pandas>=0.24->yfinance) (2.8.1)\n",
            "Requirement already satisfied: pytz>=2017.2 in /usr/local/lib/python3.6/dist-packages (from pandas>=0.24->yfinance) (2018.9)\n",
            "Requirement already satisfied: chardet<4,>=3.0.2 in /usr/local/lib/python3.6/dist-packages (from requests>=2.20->yfinance) (3.0.4)\n",
            "Requirement already satisfied: urllib3!=1.25.0,!=1.25.1,<1.26,>=1.21.1 in /usr/local/lib/python3.6/dist-packages (from requests>=2.20->yfinance) (1.24.3)\n",
            "Requirement already satisfied: idna<3,>=2.5 in /usr/local/lib/python3.6/dist-packages (from requests>=2.20->yfinance) (2.10)\n",
            "Requirement already satisfied: certifi>=2017.4.17 in /usr/local/lib/python3.6/dist-packages (from requests>=2.20->yfinance) (2020.12.5)\n",
            "Requirement already satisfied: six>=1.5 in /usr/local/lib/python3.6/dist-packages (from python-dateutil>=2.7.3->pandas>=0.24->yfinance) (1.15.0)\n",
            "Building wheels for collected packages: yfinance\n",
            "  Building wheel for yfinance (setup.py) ... \u001b[?25l\u001b[?25hdone\n",
            "  Created wheel for yfinance: filename=yfinance-0.1.55-py2.py3-none-any.whl size=22616 sha256=2b5f6b89fea44b879af87ec40b96a834eb83904b0cdd1ae0a04fed326754abb6\n",
            "  Stored in directory: /root/.cache/pip/wheels/04/98/cc/2702a4242d60bdc14f48b4557c427ded1fe92aedf257d4565c\n",
            "Successfully built yfinance\n",
            "Installing collected packages: lxml, yfinance\n",
            "  Found existing installation: lxml 4.2.6\n",
            "    Uninstalling lxml-4.2.6:\n",
            "      Successfully uninstalled lxml-4.2.6\n",
            "Successfully installed lxml-4.6.2 yfinance-0.1.55\n",
            "Collecting mplfinance\n",
            "\u001b[?25l  Downloading https://files.pythonhosted.org/packages/52/96/75608a3c82cb433dbd3e48f2da3e1ebe5be032f6cbfc92ab6b42a4de5639/mplfinance-0.12.7a5-py3-none-any.whl (55kB)\n",
            "\u001b[K     |████████████████████████████████| 61kB 3.2MB/s \n",
            "\u001b[?25hRequirement already satisfied: pandas in /usr/local/lib/python3.6/dist-packages (from mplfinance) (1.1.5)\n",
            "Requirement already satisfied: matplotlib in /usr/local/lib/python3.6/dist-packages (from mplfinance) (3.2.2)\n",
            "Requirement already satisfied: numpy>=1.15.4 in /usr/local/lib/python3.6/dist-packages (from pandas->mplfinance) (1.19.5)\n",
            "Requirement already satisfied: pytz>=2017.2 in /usr/local/lib/python3.6/dist-packages (from pandas->mplfinance) (2018.9)\n",
            "Requirement already satisfied: python-dateutil>=2.7.3 in /usr/local/lib/python3.6/dist-packages (from pandas->mplfinance) (2.8.1)\n",
            "Requirement already satisfied: pyparsing!=2.0.4,!=2.1.2,!=2.1.6,>=2.0.1 in /usr/local/lib/python3.6/dist-packages (from matplotlib->mplfinance) (2.4.7)\n",
            "Requirement already satisfied: cycler>=0.10 in /usr/local/lib/python3.6/dist-packages (from matplotlib->mplfinance) (0.10.0)\n",
            "Requirement already satisfied: kiwisolver>=1.0.1 in /usr/local/lib/python3.6/dist-packages (from matplotlib->mplfinance) (1.3.1)\n",
            "Requirement already satisfied: six>=1.5 in /usr/local/lib/python3.6/dist-packages (from python-dateutil>=2.7.3->pandas->mplfinance) (1.15.0)\n",
            "Installing collected packages: mplfinance\n",
            "Successfully installed mplfinance-0.12.7a5\n"
          ],
          "name": "stdout"
        }
      ]
    },
    {
      "cell_type": "code",
      "metadata": {
        "id": "wtKektHScFis"
      },
      "source": [
        "from pandas_datareader import data as pdr #datareader가 필요함\r\n",
        "import yfinance as yf #해외주식 한정 정확\r\n",
        "import datetime\r\n",
        "yf.pdr_override()\r\n",
        "df=pdr.get_data_yahoo('DADA')\r\n",
        "df=df[['Open','High','Low','Close','Volume']]\r\n",
        "df=df.iloc[-91:-1] #실제 판단은 한 분기단위로 \r\n",
        "df"
      ],
      "execution_count": null,
      "outputs": []
    },
    {
      "cell_type": "code",
      "metadata": {
        "id": "Drc25zI1ZaeZ"
      },
      "source": [
        "daily_ret=df.pct_change() #dpc가 아예 판다스 내장함수로 구현되어있음\r\n",
        "daily_ret.iloc[0]=daily_ret.iloc[1]\r\n",
        "daily_cov=daily_ret.cov() #공분산 처음써봄\r\n",
        "annual_ret=daily_ret.mean()*250 #annual값이 필요했던 것\r\n",
        "annual_cov=daily_cov*250 \r\n",
        "port_ret=[] \r\n",
        "port_risk=[]\r\n",
        "port_weights=[]\r\n",
        "port_sharpe=[]"
      ],
      "execution_count": null,
      "outputs": []
    },
    {
      "cell_type": "code",
      "metadata": {
        "id": "zqYigutBZivN"
      },
      "source": [
        "import numpy as np\r\n",
        "for _ in range(20000):\r\n",
        "  weights=np.random.random(4) #np패키지속 random모듈속 random함수\r\n",
        "  weights=weights/np.sum(weights) #난수가 범위가 없으니깐\r\n",
        "  returns=np.dot(weights,annual_ret) \r\n",
        "  risk=np.sqrt(np.dot(weights.T,np.dot(annual_cov,weights))) #포트폴리오 리스크공식(이론상과 약간다른가?) \r\n",
        "  sharpe=(returns-0.005)/risk #기준금리적용\r\n",
        "  port_ret.append(returns)\r\n",
        "  port_risk.append(risk)\r\n",
        "  port_weights.append(weights)\r\n",
        "  port_sharpe.append(sharpe)\r\n",
        "portfolio={'Return':port_ret,'Risk':port_risk,'Sharpe':port_sharpe} #딕셔너리는 굉장히 애용되는 자료형이구나\r\n",
        "stocks=['셀트리온','LG전자','삼성전자','카카오']\r\n",
        "for i,s in enumerate(stocks): #인덱스가 앞임\r\n",
        "  portfolio[s]=[weight[i] for weight in port_weights] #딕셔너리 입력을 이렇게도 가능하구나 #각 리스트의 가중치마다\r\n",
        "port_df=pd.DataFrame(portfolio)"
      ],
      "execution_count": null,
      "outputs": []
    },
    {
      "cell_type": "code",
      "metadata": {
        "id": "6eoTzIv0ZkeL"
      },
      "source": [
        "plt.scatter(data=port_df,x='Risk',y='Return')\r\n",
        "plt.title('Efficient portfolio')\r\n",
        "plt.xlabel('Risk')\r\n",
        "plt.ylabel('Expected Return')\r\n",
        "max_sharpe=port_df.loc[port_df['Sharpe']==port_df['Sharpe'].max()] #마킹하는 법(dataframe위 한 점 선택)\r\n",
        "plt.scatter(x=max_sharpe['Risk'],y=max_sharpe['Return'],c='r',marker='x',s=300) #사이즈 지정필수\r\n",
        "plt.show()"
      ],
      "execution_count": null,
      "outputs": []
    },
    {
      "cell_type": "code",
      "metadata": {
        "id": "ZvISe_VmZmiU"
      },
      "source": [
        "max_sharpe"
      ],
      "execution_count": null,
      "outputs": []
    },
    {
      "cell_type": "markdown",
      "metadata": {
        "id": "NFxl9WQYbcXM"
      },
      "source": [
        "#3.매수,매도 시점"
      ]
    },
    {
      "cell_type": "markdown",
      "metadata": {
        "id": "CaPZYa-zdMdZ"
      },
      "source": [
        "##1)종목1"
      ]
    },
    {
      "cell_type": "markdown",
      "metadata": {
        "id": "465hwNLmcPqd"
      },
      "source": [
        "###• 볼린저 밴드"
      ]
    },
    {
      "cell_type": "code",
      "metadata": {
        "id": "XJUtRKtdcuGO"
      },
      "source": [
        "df['MA20']=df['Close'].rolling(window=20,min_periods=1).mean() #볼린저밴드자체는 MA20으로 만든다\r\n",
        "std=df['Close'].rolling(window=20,min_periods=1).std() #둘다 close rolling해서 만든다\r\n",
        "std.fillna(method='bfill',inplace=True) #std만 초깃값이 빈다\r\n",
        "df['Upper']=df['MA20']+2*std\r\n",
        "df['Lower']=df['MA20']-2*std\r\n",
        "df['%B']=100*(df.Close-df.Lower)/(df.Upper-df.Lower)\r\n",
        "df['TP']=(df['High']+df['Lower']+df['Close'])/3 #MFI만 필요한 수치\r\n",
        "df['PMF']=0\r\n",
        "df['NMF']=0\r\n",
        "df"
      ],
      "execution_count": null,
      "outputs": []
    },
    {
      "cell_type": "code",
      "metadata": {
        "id": "7y986FD-cwzt"
      },
      "source": [
        "for i in range(len(df)-1): #0부터 개수-2까지\r\n",
        "  if df.TP.values[i]<df.TP.values[i+1]: \r\n",
        "    df.PMF.values[i+1]=df.TP.values[i+1]*df.Volume.values[i+1] #그냥 값자체에 가중치곱하면 흐름으로 처리\r\n",
        "    df.NMF.values[i+1]=0\r\n",
        "  elif df.TP.values[i]>df.TP.values[i+1]:\r\n",
        "    df.NMF.values[i+1]=df.TP.values[i+1]*df.Volume.values[i+1] #그냥 값자체에 가중치곱하면 흐름으로 처리\r\n",
        "    df.PMF.values[i+1]=0\r\n",
        "MF=df.PMF.rolling(window=10).sum()/df.NMF.rolling(window=10).sum() #유일하게 10으로 rolling\r\n",
        "df['MFI']=100-100/(1+MF)"
      ],
      "execution_count": null,
      "outputs": []
    },
    {
      "cell_type": "code",
      "metadata": {
        "id": "tfwvP7NwczCs"
      },
      "source": [
        "plt.subplot(2,1,1)\r\n",
        "plt.plot(df.index,df.Close,label='Close')\r\n",
        "plt.plot(df.index,df.Upper,label='Upper')\r\n",
        "plt.plot(df.index,df.Lower,label='Lower')\r\n",
        "plt.plot(df.index,df.MA20,label='MA20')\r\n",
        "plt.legend(loc='best')\r\n",
        "plt.subplot(2,1,2)\r\n",
        "plt.plot(df.index,df['%B'],label='%B')\r\n",
        "plt.plot(df.index,df.MFI,label='MFI')\r\n",
        "buy=[]\r\n",
        "sell=[]\r\n",
        "df.index=df.index.date #날짜만!\r\n",
        "for i in range(len(df)):\r\n",
        "  if df['%B'].values[i]>80 and df.MFI.values[i]>80:\r\n",
        "    plt.plot(df.index.values[i],0,'r^')\r\n",
        "    buy.append(df.index.values[i])\r\n",
        "  if df['%B'].values[i]<20 and df.MFI.values[i]<20:\r\n",
        "    plt.plot(df.index.values[i],0,'bv')\r\n",
        "    sell.append(df.index.values[i])\r\n",
        "plt.legend(loc='best')"
      ],
      "execution_count": null,
      "outputs": []
    },
    {
      "cell_type": "code",
      "metadata": {
        "id": "l0teWWpdc6f8"
      },
      "source": [
        "intensity=df.Volume*(2*df.Close-df.High-df.Low)/(df.High-df.Low) #거래량을 곱해준다음 rolling해서 나눠주기\r\n",
        "df['%I']=100*intensity.rolling(window=20).sum()/df.Volume.rolling(window=20).sum()\r\n",
        "plt.bar(df.index,df['%I'],label='%I in 20days')"
      ],
      "execution_count": null,
      "outputs": []
    },
    {
      "cell_type": "markdown",
      "metadata": {
        "id": "TVG4gEpQcZo_"
      },
      "source": [
        "###• 삼중창"
      ]
    },
    {
      "cell_type": "code",
      "metadata": {
        "id": "GfR9lMC_dAxx"
      },
      "source": [
        "L14=df.Low.rolling(window=14,min_periods=1).min() \r\n",
        "H14=df.High.rolling(window=14,min_periods=1).max()\r\n",
        "df['%K']=100*(df['Close']-L14)/(H14-L14)\r\n",
        "df['%D']=df['%K'].rolling(window=3).mean() \r\n",
        "plt.plot(df.index,df['%D'],label='%D')\r\n",
        "plt.title('2nd Screen')\r\n",
        "plt.legend(loc='best')"
      ],
      "execution_count": null,
      "outputs": []
    },
    {
      "cell_type": "code",
      "metadata": {
        "id": "yfEybTDOdBW2"
      },
      "source": [
        "df['EMA130']=df['Close'].ewm(span=130).mean()\r\n",
        "plt.plot(df.index,df['EMA130'],label='EMA130')\r\n",
        "for i in range(len(df)-1):\r\n",
        "  if df.EMA130.values[i]<df.EMA130.values[i+1] and df['%D'].values[i]<=20 and df['%D'].values[i+1]>20:\r\n",
        "    plt.plot(df.index[i+1],df.EMA130.mean(),'r^') #평균으로 해야 마커가 일관성 있게 보임\r\n",
        "    buy.append(df.index.values[i])\r\n",
        "  elif df.EMA130.values[i]>=df.EMA130.values[i+1] and df['%D'].values[i]>=80 and df['%D'].values[i+1]<80: \r\n",
        "    plt.plot(df.index[i+1],df.EMA130.mean(),'bv')\r\n",
        "    sell.append(df.index.values[i])\r\n",
        "plt.title('3rd Screen')"
      ],
      "execution_count": null,
      "outputs": []
    },
    {
      "cell_type": "markdown",
      "metadata": {
        "id": "zDxGtE1OcjOf"
      },
      "source": [
        "###• 종합"
      ]
    },
    {
      "cell_type": "code",
      "metadata": {
        "id": "RBpKYHDGdGCO"
      },
      "source": [
        "print('매수시점:',buy)\r\n",
        "print('매도시점:',sell)"
      ],
      "execution_count": null,
      "outputs": []
    },
    {
      "cell_type": "markdown",
      "metadata": {
        "id": "WzKJLRwndzCR"
      },
      "source": [
        "##2)종목2"
      ]
    },
    {
      "cell_type": "markdown",
      "metadata": {
        "id": "aY4Y4qXGd4qw"
      },
      "source": [
        "###• 볼린저 밴드"
      ]
    },
    {
      "cell_type": "markdown",
      "metadata": {
        "id": "cpEypDGbd4tr"
      },
      "source": [
        "###• 삼중창"
      ]
    },
    {
      "cell_type": "markdown",
      "metadata": {
        "id": "gTmcpIpPd4wZ"
      },
      "source": [
        "###• 종합"
      ]
    },
    {
      "cell_type": "markdown",
      "metadata": {
        "id": "xIPr39iJeFyK"
      },
      "source": [
        "##3)종목3"
      ]
    },
    {
      "cell_type": "markdown",
      "metadata": {
        "id": "Yok4WrQreF3A"
      },
      "source": [
        "###• 볼린저 밴드"
      ]
    },
    {
      "cell_type": "markdown",
      "metadata": {
        "id": "nnl7DAsweF5i"
      },
      "source": [
        "###• 삼중창"
      ]
    },
    {
      "cell_type": "markdown",
      "metadata": {
        "id": "ys_9Ln2KeNwI"
      },
      "source": [
        "###• 종합"
      ]
    },
    {
      "cell_type": "markdown",
      "metadata": {
        "id": "tU2lH6LKcnwW"
      },
      "source": [
        "#4.예측\r\n"
      ]
    },
    {
      "cell_type": "markdown",
      "metadata": {
        "id": "fQvWBq-yeswL"
      },
      "source": [
        "##1)종목1"
      ]
    },
    {
      "cell_type": "code",
      "metadata": {
        "id": "7gt5-HVpe9yk"
      },
      "source": [
        "scaled_df=MinMaxScaler().fit_transform(k_df) #list반환 주의!\r\n",
        "scaled_df=pd.DataFrame(scaled_df,columns=['Open','High','Low','Close','Volume'])\r\n",
        "target_df=scaled_df['Close'] #target도 scale ver"
      ],
      "execution_count": null,
      "outputs": []
    },
    {
      "cell_type": "code",
      "metadata": {
        "id": "AgrEHpkOe-LP"
      },
      "source": [
        "x=scaled_df.values.tolist() #텐서플로의 신기함(dataframe에서 ndarray에서 list로)\r\n",
        "y=target_df.values.tolist()\r\n",
        "xdata=[]\r\n",
        "ydata=[]\r\n",
        "window=10 #10일씩 묶어서 훨씬 늘림\r\n",
        "for i in range(len(y)-window):\r\n",
        "  x_=x[i:i+window] #9개씩\r\n",
        "  y_=y[i+window] #종가는 하나씩\r\n",
        "  xdata.append(x_)\r\n",
        "  ydata.append(y_)\r\n",
        "print(x_,\"->\",y_) #맨마지막"
      ],
      "execution_count": null,
      "outputs": []
    },
    {
      "cell_type": "code",
      "metadata": {
        "id": "IACcmbXee-O3"
      },
      "source": [
        "test_size=int(len(ydata)*0.3) #공부를 좀 더 해서 순서대로 하는게 맞는 건지등 ROCV는 뭔지등 공부(아직 멀었다!)\r\n",
        "X_train=np.array(xdata[0:len(xdata)-test_size+1]) #개수 맞추기\r\n",
        "X_test=np.array(xdata[len(xdata)-test_size:len(xdata)])\r\n",
        "y_train=np.array(ydata[0:len(ydata)-test_size+1])\r\n",
        "y_test=np.array(ydata[len(ydata)-test_size:len(ydata)])"
      ],
      "execution_count": null,
      "outputs": []
    },
    {
      "cell_type": "code",
      "metadata": {
        "id": "rRQSEsOtfEJN"
      },
      "source": [
        "model=Sequential()\r\n",
        "model.add(LSTM(units=10,activation='relu',input_shape=(window,5),return_sequences=True)) #마지막에 과정 표현여부 선택\r\n",
        "model.add(Dropout(0.1))\r\n",
        "model.add(LSTM(units=10,activation='relu'))\r\n",
        "model.add(Dropout(0.1))\r\n",
        "model.add(Dense(units=1))\r\n",
        "model.summary() #layer구조확인"
      ],
      "execution_count": null,
      "outputs": []
    },
    {
      "cell_type": "code",
      "metadata": {
        "id": "il6riuFufEw-"
      },
      "source": [
        "model.compile(optimizer='adam',loss='mean_squared_error') #딥러닝은 compile후 fit_predict\r\n",
        "model.fit(X_train,y_train,epochs=60,batch_size=30) #같은 데이터로 몇번 반복/몇건씩 입력할건지\r\n",
        "pred=model.predict(X_test)"
      ],
      "execution_count": null,
      "outputs": []
    },
    {
      "cell_type": "code",
      "metadata": {
        "id": "fsHaIgWffIit"
      },
      "source": [
        "plt.plot(y_test,color='red',label='real')\r\n",
        "plt.plot(pred,color='blue',label='prediction')\r\n",
        "plt.title('Real VS Prediction')\r\n",
        "plt.xlabel('time')\r\n",
        "plt.ylabel('price')\r\n",
        "plt.legend(loc='best')\r\n",
        "plt.show()"
      ],
      "execution_count": null,
      "outputs": []
    },
    {
      "cell_type": "code",
      "metadata": {
        "id": "JZI1qouLfO6G"
      },
      "source": [
        "print(\"내일 카카오톡 주가는 {0}원\".format(pred[-1]*k_df.Close.iloc[-1]/scaled_df.Close.iloc[-1])) #다시 scale돌려놓기"
      ],
      "execution_count": null,
      "outputs": []
    },
    {
      "cell_type": "markdown",
      "metadata": {
        "id": "NwUmO8q_evRa"
      },
      "source": [
        "##2)종목2"
      ]
    },
    {
      "cell_type": "markdown",
      "metadata": {
        "id": "nNHrvB9FevTg"
      },
      "source": [
        "##3)종목3"
      ]
    },
    {
      "cell_type": "markdown",
      "metadata": {
        "id": "qqXqzpdQeqBD"
      },
      "source": [
        "#5.결론"
      ]
    }
  ]
}