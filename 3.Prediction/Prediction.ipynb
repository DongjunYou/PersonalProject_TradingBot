{
  "nbformat": 4,
  "nbformat_minor": 0,
  "metadata": {
    "colab": {
      "name": "Prediction.ipynb",
      "provenance": [],
      "collapsed_sections": [],
      "toc_visible": true,
      "authorship_tag": "ABX9TyOtpq2SnSp41DWIL32UKbh1",
      "include_colab_link": true
    },
    "kernelspec": {
      "name": "python3",
      "display_name": "Python 3"
    }
  },
  "cells": [
    {
      "cell_type": "markdown",
      "metadata": {
        "id": "view-in-github",
        "colab_type": "text"
      },
      "source": [
        "<a href=\"https://colab.research.google.com/github/Lutris98/PersonalProject/blob/main/3.Prediction/Prediction.ipynb\" target=\"_parent\"><img src=\"https://colab.research.google.com/assets/colab-badge.svg\" alt=\"Open In Colab\"/></a>"
      ]
    },
    {
      "cell_type": "markdown",
      "metadata": {
        "id": "bE1H3BY5KI1Z"
      },
      "source": [
        "#1.EDA"
      ]
    },
    {
      "cell_type": "code",
      "metadata": {
        "id": "KJBsLQh3zOpj"
      },
      "source": [
        "import numpy as np\r\n",
        "import pandas as pd\r\n",
        "import requests\r\n",
        "from bs4 import BeautifulSoup\r\n",
        "import matplotlib.pyplot as plt\r\n",
        "from tensorflow.keras import Sequential\r\n",
        "from tensorflow.keras.layers import Dense,LSTM,Dropout #Dropout은 필수\r\n",
        "from sklearn.preprocessing import MinMaxScaler\r\n",
        "from sklearn.model_selection import train_test_split"
      ],
      "execution_count": 155,
      "outputs": []
    },
    {
      "cell_type": "code",
      "metadata": {
        "id": "MDjTdF8mBq8-"
      },
      "source": [
        "url='https://finance.naver.com/item/sise_day.nhn?code=035720'\r\n",
        "headers = {'User-Agent' : 'Mozilla/5.0 (Windows NT 10.0; Win64; x64) AppleWebKit/537.36 (KHTML, like Gecko) Chrome/88.0.4324.150 Safari/537.36'}\r\n",
        "kresponse=requests.get(url, headers = headers).text\r\n",
        "html=BeautifulSoup(kresponse,'lxml') \r\n",
        "pgrr=html.find('td',class_='pgRR')\r\n",
        "s=str(pgrr.a['href']).split('=')\r\n",
        "last_page=s[-1] \r\n",
        "k_df=pd.DataFrame()\r\n",
        "for page in range(1, int(last_page)+1): \r\n",
        "  page_url='{0}&page={1}'.format(url,page) \r\n",
        "  kresponse=requests.get(page_url, headers = headers).text\r\n",
        "  k_df=k_df.append(pd.read_html(kresponse,header=0)[0]) \r\n",
        "k_df=k_df.dropna()"
      ],
      "execution_count": 156,
      "outputs": []
    },
    {
      "cell_type": "markdown",
      "metadata": {
        "id": "3RI9PFraJ6rj"
      },
      "source": [
        "##1)Basic Feature selection"
      ]
    },
    {
      "cell_type": "code",
      "metadata": {
        "id": "d0U46hkmCfPD"
      },
      "source": [
        "k_df=k_df.rename(columns={'날짜':'Date','시가':'Open','고가':'High','저가':'Low','종가':'Close','거래량':'Volume'}) \r\n",
        "k_df.index=pd.to_datetime(k_df['Date']) \r\n",
        "k_df=k_df[['Open','High','Low','Close','Volume']] #2개 이상으로 새 dataframe 만들때 \r\n",
        "k_df.sort_index(inplace=True)\r\n",
        "k_df=k_df.iloc[-501:-1] #loc만 마지막 포함 "
      ],
      "execution_count": 157,
      "outputs": []
    },
    {
      "cell_type": "markdown",
      "metadata": {
        "id": "9G2yeLD7KQjL"
      },
      "source": [
        "#2.Preprocessing"
      ]
    },
    {
      "cell_type": "markdown",
      "metadata": {
        "id": "KJhGnAnYKVG8"
      },
      "source": [
        "##1)Scaling"
      ]
    },
    {
      "cell_type": "code",
      "metadata": {
        "id": "fAS0S-VFGlcw"
      },
      "source": [
        "scaled_df=MinMaxScaler().fit_transform(k_df) #list반환 주의!\r\n",
        "scaled_df=pd.DataFrame(scaled_df,columns=['Open','High','Low','Close','Volume'])\r\n",
        "target_df=scaled_df['Close'] #target도 scale ver"
      ],
      "execution_count": 158,
      "outputs": []
    },
    {
      "cell_type": "markdown",
      "metadata": {
        "id": "IdC5a3sHKiYd"
      },
      "source": [
        "#3.Modeling"
      ]
    },
    {
      "cell_type": "code",
      "metadata": {
        "id": "bKSsOrISIc1h",
        "colab": {
          "base_uri": "https://localhost:8080/"
        },
        "outputId": "e3d94e2e-a9d9-45a5-d239-a534c94e666f"
      },
      "source": [
        "x=scaled_df.values.tolist() #텐서플로의 신기함(dataframe에서 ndarray에서 list로)\r\n",
        "y=target_df.values.tolist()\r\n",
        "xdata=[]\r\n",
        "ydata=[]\r\n",
        "window=10 #10일씩 묶어서 훨씬 늘림\r\n",
        "for i in range(len(y)-window):\r\n",
        "  x_=x[i:i+window] #9개씩\r\n",
        "  y_=y[i+window] #종가는 하나씩\r\n",
        "  xdata.append(x_)\r\n",
        "  ydata.append(y_)\r\n",
        "print(x_,\"->\",y_) #맨마지막 "
      ],
      "execution_count": 159,
      "outputs": [
        {
          "output_type": "stream",
          "text": [
            "[[0.8884481903817552, 0.9106487148102814, 0.8996739403059945, 0.8917322834645669, 0.15515180163692838], [0.9033217649975211, 0.8910648714810282, 0.8595435164283923, 0.8499015748031495, 0.18428420681824925], [0.8438274665344572, 0.8482252141982863, 0.8319538500125406, 0.8511318897637794, 0.15285097012730509], [0.8785324739712443, 0.8824969400244799, 0.8783546526210183, 0.8609744094488188, 0.10428497697105582], [0.8797719385225582, 0.8947368421052632, 0.8871331828442438, 0.9015748031496063, 0.12298711624729686], [0.910758552305404, 0.8971848225214197, 0.8921494858289439, 0.8831200787401574, 0.07558735448385126], [0.895884977689638, 0.8922888616891064, 0.8883872585904188, 0.8843503937007873, 0.05428614595299436], [0.8909271194843829, 0.8947368421052632, 0.8946576373212941, 0.889271653543307, 0.07544550491080472], [0.9033217649975211, 0.9082007343941249, 0.9009280160521694, 0.8991141732283463, 0.1185603093499498], [0.9181953396132871, 0.9645042839657282, 0.9347880611988965, 0.9692421259842519, 0.33053268836965133]] -> 1.0\n"
          ],
          "name": "stdout"
        }
      ]
    },
    {
      "cell_type": "code",
      "metadata": {
        "id": "GyKXDplgLcj0"
      },
      "source": [
        "test_size=int(len(ydata)*0.3) #공부를 좀 더 해서 순서대로 하는게 맞는 건지등 ROCV는 뭔지등 공부(아직 멀었다!)\r\n",
        "X_train=np.array(xdata[0:len(xdata)-test_size+1]) #개수 맞추기\r\n",
        "X_test=np.array(xdata[len(xdata)-test_size:len(xdata)])\r\n",
        "y_train=np.array(ydata[0:len(ydata)-test_size+1])\r\n",
        "y_test=np.array(ydata[len(ydata)-test_size:len(ydata)])"
      ],
      "execution_count": 160,
      "outputs": []
    },
    {
      "cell_type": "code",
      "metadata": {
        "id": "eggIR3W9MOWJ",
        "colab": {
          "base_uri": "https://localhost:8080/"
        },
        "outputId": "939c3f44-0415-424d-fba5-433b24c0ee6e"
      },
      "source": [
        "model=Sequential()\r\n",
        "model.add(LSTM(units=10,activation='relu',input_shape=(window,5),return_sequences=True)) #마지막에 과정 표현여부 선택\r\n",
        "model.add(Dropout(0.1))\r\n",
        "model.add(LSTM(units=10,activation='relu'))\r\n",
        "model.add(Dropout(0.1))\r\n",
        "model.add(Dense(units=1))\r\n",
        "model.summary() #layer구조확인"
      ],
      "execution_count": 161,
      "outputs": [
        {
          "output_type": "stream",
          "text": [
            "Model: \"sequential_4\"\n",
            "_________________________________________________________________\n",
            "Layer (type)                 Output Shape              Param #   \n",
            "=================================================================\n",
            "lstm_8 (LSTM)                (None, 10, 10)            640       \n",
            "_________________________________________________________________\n",
            "dropout_8 (Dropout)          (None, 10, 10)            0         \n",
            "_________________________________________________________________\n",
            "lstm_9 (LSTM)                (None, 10)                840       \n",
            "_________________________________________________________________\n",
            "dropout_9 (Dropout)          (None, 10)                0         \n",
            "_________________________________________________________________\n",
            "dense_4 (Dense)              (None, 1)                 11        \n",
            "=================================================================\n",
            "Total params: 1,491\n",
            "Trainable params: 1,491\n",
            "Non-trainable params: 0\n",
            "_________________________________________________________________\n"
          ],
          "name": "stdout"
        }
      ]
    },
    {
      "cell_type": "code",
      "metadata": {
        "id": "6nHZK7UXdimf",
        "colab": {
          "base_uri": "https://localhost:8080/"
        },
        "outputId": "59802bc0-4017-4005-ddbd-fed206eabce2"
      },
      "source": [
        "model.compile(optimizer='adam',loss='mean_squared_error') #딥러닝은 compile후 fit_predict\r\n",
        "model.fit(X_train,y_train,epochs=60,batch_size=30) #같은 데이터로 몇번 반복/몇건씩 입력할건지\r\n",
        "pred=model.predict(X_test)"
      ],
      "execution_count": 162,
      "outputs": [
        {
          "output_type": "stream",
          "text": [
            "Epoch 1/60\n",
            "12/12 [==============================] - 2s 8ms/step - loss: 0.0451\n",
            "Epoch 2/60\n",
            "12/12 [==============================] - 0s 8ms/step - loss: 0.0244\n",
            "Epoch 3/60\n",
            "12/12 [==============================] - 0s 8ms/step - loss: 0.0110\n",
            "Epoch 4/60\n",
            "12/12 [==============================] - 0s 8ms/step - loss: 0.0050\n",
            "Epoch 5/60\n",
            "12/12 [==============================] - 0s 8ms/step - loss: 0.0044\n",
            "Epoch 6/60\n",
            "12/12 [==============================] - 0s 8ms/step - loss: 0.0026\n",
            "Epoch 7/60\n",
            "12/12 [==============================] - 0s 8ms/step - loss: 0.0026\n",
            "Epoch 8/60\n",
            "12/12 [==============================] - 0s 8ms/step - loss: 0.0021\n",
            "Epoch 9/60\n",
            "12/12 [==============================] - 0s 8ms/step - loss: 0.0022\n",
            "Epoch 10/60\n",
            "12/12 [==============================] - 0s 8ms/step - loss: 0.0033\n",
            "Epoch 11/60\n",
            "12/12 [==============================] - 0s 8ms/step - loss: 0.0014\n",
            "Epoch 12/60\n",
            "12/12 [==============================] - 0s 8ms/step - loss: 0.0026\n",
            "Epoch 13/60\n",
            "12/12 [==============================] - 0s 8ms/step - loss: 0.0019\n",
            "Epoch 14/60\n",
            "12/12 [==============================] - 0s 8ms/step - loss: 0.0023\n",
            "Epoch 15/60\n",
            "12/12 [==============================] - 0s 9ms/step - loss: 0.0016\n",
            "Epoch 16/60\n",
            "12/12 [==============================] - 0s 8ms/step - loss: 0.0016\n",
            "Epoch 17/60\n",
            "12/12 [==============================] - 0s 8ms/step - loss: 0.0021\n",
            "Epoch 18/60\n",
            "12/12 [==============================] - 0s 8ms/step - loss: 0.0018\n",
            "Epoch 19/60\n",
            "12/12 [==============================] - 0s 8ms/step - loss: 0.0024\n",
            "Epoch 20/60\n",
            "12/12 [==============================] - 0s 8ms/step - loss: 0.0019\n",
            "Epoch 21/60\n",
            "12/12 [==============================] - 0s 8ms/step - loss: 0.0015\n",
            "Epoch 22/60\n",
            "12/12 [==============================] - 0s 8ms/step - loss: 0.0016\n",
            "Epoch 23/60\n",
            "12/12 [==============================] - 0s 8ms/step - loss: 0.0018\n",
            "Epoch 24/60\n",
            "12/12 [==============================] - 0s 7ms/step - loss: 0.0023\n",
            "Epoch 25/60\n",
            "12/12 [==============================] - 0s 8ms/step - loss: 0.0018\n",
            "Epoch 26/60\n",
            "12/12 [==============================] - 0s 8ms/step - loss: 0.0015\n",
            "Epoch 27/60\n",
            "12/12 [==============================] - 0s 9ms/step - loss: 0.0016\n",
            "Epoch 28/60\n",
            "12/12 [==============================] - 0s 9ms/step - loss: 0.0012\n",
            "Epoch 29/60\n",
            "12/12 [==============================] - 0s 8ms/step - loss: 0.0015\n",
            "Epoch 30/60\n",
            "12/12 [==============================] - 0s 8ms/step - loss: 0.0019\n",
            "Epoch 31/60\n",
            "12/12 [==============================] - 0s 8ms/step - loss: 0.0016\n",
            "Epoch 32/60\n",
            "12/12 [==============================] - 0s 8ms/step - loss: 0.0021\n",
            "Epoch 33/60\n",
            "12/12 [==============================] - 0s 8ms/step - loss: 0.0013\n",
            "Epoch 34/60\n",
            "12/12 [==============================] - 0s 9ms/step - loss: 0.0015\n",
            "Epoch 35/60\n",
            "12/12 [==============================] - 0s 8ms/step - loss: 0.0012\n",
            "Epoch 36/60\n",
            "12/12 [==============================] - 0s 8ms/step - loss: 0.0013\n",
            "Epoch 37/60\n",
            "12/12 [==============================] - 0s 8ms/step - loss: 9.5148e-04\n",
            "Epoch 38/60\n",
            "12/12 [==============================] - 0s 9ms/step - loss: 0.0016\n",
            "Epoch 39/60\n",
            "12/12 [==============================] - 0s 8ms/step - loss: 0.0015\n",
            "Epoch 40/60\n",
            "12/12 [==============================] - 0s 8ms/step - loss: 0.0015\n",
            "Epoch 41/60\n",
            "12/12 [==============================] - 0s 8ms/step - loss: 0.0011\n",
            "Epoch 42/60\n",
            "12/12 [==============================] - 0s 8ms/step - loss: 0.0020\n",
            "Epoch 43/60\n",
            "12/12 [==============================] - 0s 8ms/step - loss: 0.0018\n",
            "Epoch 44/60\n",
            "12/12 [==============================] - 0s 8ms/step - loss: 0.0014\n",
            "Epoch 45/60\n",
            "12/12 [==============================] - 0s 8ms/step - loss: 0.0022\n",
            "Epoch 46/60\n",
            "12/12 [==============================] - 0s 8ms/step - loss: 0.0018\n",
            "Epoch 47/60\n",
            "12/12 [==============================] - 0s 8ms/step - loss: 0.0012\n",
            "Epoch 48/60\n",
            "12/12 [==============================] - 0s 9ms/step - loss: 0.0014\n",
            "Epoch 49/60\n",
            "12/12 [==============================] - 0s 8ms/step - loss: 0.0019\n",
            "Epoch 50/60\n",
            "12/12 [==============================] - 0s 8ms/step - loss: 0.0013\n",
            "Epoch 51/60\n",
            "12/12 [==============================] - 0s 8ms/step - loss: 0.0018\n",
            "Epoch 52/60\n",
            "12/12 [==============================] - 0s 8ms/step - loss: 0.0012\n",
            "Epoch 53/60\n",
            "12/12 [==============================] - 0s 8ms/step - loss: 0.0015\n",
            "Epoch 54/60\n",
            "12/12 [==============================] - 0s 8ms/step - loss: 0.0020\n",
            "Epoch 55/60\n",
            "12/12 [==============================] - 0s 8ms/step - loss: 0.0018\n",
            "Epoch 56/60\n",
            "12/12 [==============================] - 0s 8ms/step - loss: 0.0012\n",
            "Epoch 57/60\n",
            "12/12 [==============================] - 0s 8ms/step - loss: 0.0017\n",
            "Epoch 58/60\n",
            "12/12 [==============================] - 0s 9ms/step - loss: 0.0013\n",
            "Epoch 59/60\n",
            "12/12 [==============================] - 0s 9ms/step - loss: 0.0012\n",
            "Epoch 60/60\n",
            "12/12 [==============================] - 0s 8ms/step - loss: 0.0017\n"
          ],
          "name": "stdout"
        }
      ]
    },
    {
      "cell_type": "code",
      "metadata": {
        "id": "hlNCw3DMeTyH",
        "colab": {
          "base_uri": "https://localhost:8080/",
          "height": 295
        },
        "outputId": "410e73c2-a45e-4755-e925-628ea3935145"
      },
      "source": [
        "plt.plot(y_test,color='red',label='real')\r\n",
        "plt.plot(pred,color='blue',label='prediction')\r\n",
        "plt.title('Real VS Prediction')\r\n",
        "plt.xlabel('time')\r\n",
        "plt.ylabel('price')\r\n",
        "plt.legend(loc='best')\r\n",
        "plt.show()"
      ],
      "execution_count": 163,
      "outputs": [
        {
          "output_type": "display_data",
          "data": {
            "image/png": "[encoded data removed]",
            "text/plain": [
              "<Figure size 432x288 with 1 Axes>"
            ]
          },
          "metadata": {
            "tags": [],
            "needs_background": "light"
          }
        }
      ]
    },
    {
      "cell_type": "code",
      "metadata": {
        "id": "fgK-jzePg39I",
        "colab": {
          "base_uri": "https://localhost:8080/"
        },
        "outputId": "16e9ce23-b53b-4e04-e75b-6b18482e761f"
      },
      "source": [
        "print(\"내일 카카오톡 주가는 {0}원\".format(pred[-1]*k_df.Close.iloc[-1]/scaled_df.Close.iloc[-1])) #다시 scale돌려놓기"
      ],
      "execution_count": 165,
      "outputs": [
        {
          "output_type": "stream",
          "text": [
            "내일 카카오톡 주가는 [585737.7]원\n"
          ],
          "name": "stdout"
        }
      ]
    }
  ]
}